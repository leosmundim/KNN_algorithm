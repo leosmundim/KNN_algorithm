{
 "cells": [
  {
   "cell_type": "code",
   "execution_count": 70,
   "id": "a23f4c71",
   "metadata": {},
   "outputs": [],
   "source": [
    "#https://medium.datadriveninvestor.com/k-nearest-neighbors-knn-7b4bd0128da7\n",
    "\n",
    "import pandas as pd\n",
    "import numpy as np\n",
    "from sklearn import preprocessing"
   ]
  },
  {
   "cell_type": "code",
   "execution_count": 71,
   "id": "7483106b",
   "metadata": {},
   "outputs": [],
   "source": [
    "#https://archive.ics.uci.edu/ml/machine-learning-databases/car/\n",
    "df_1 = pd.read_csv('car.csv')"
   ]
  },
  {
   "cell_type": "markdown",
   "id": "cdd65418",
   "metadata": {},
   "source": [
    "# Analisando a Base"
   ]
  },
  {
   "cell_type": "code",
   "execution_count": 72,
   "id": "d3ae0685",
   "metadata": {},
   "outputs": [
    {
     "data": {
      "text/html": [
       "<div>\n",
       "<style scoped>\n",
       "    .dataframe tbody tr th:only-of-type {\n",
       "        vertical-align: middle;\n",
       "    }\n",
       "\n",
       "    .dataframe tbody tr th {\n",
       "        vertical-align: top;\n",
       "    }\n",
       "\n",
       "    .dataframe thead th {\n",
       "        text-align: right;\n",
       "    }\n",
       "</style>\n",
       "<table border=\"1\" class=\"dataframe\">\n",
       "  <thead>\n",
       "    <tr style=\"text-align: right;\">\n",
       "      <th></th>\n",
       "      <th>buying</th>\n",
       "      <th>maint</th>\n",
       "      <th>doors</th>\n",
       "      <th>persons</th>\n",
       "      <th>lug_boot</th>\n",
       "      <th>safety</th>\n",
       "      <th>class</th>\n",
       "    </tr>\n",
       "  </thead>\n",
       "  <tbody>\n",
       "    <tr>\n",
       "      <th>count</th>\n",
       "      <td>1728</td>\n",
       "      <td>1728</td>\n",
       "      <td>1728</td>\n",
       "      <td>1728</td>\n",
       "      <td>1728</td>\n",
       "      <td>1728</td>\n",
       "      <td>1728</td>\n",
       "    </tr>\n",
       "    <tr>\n",
       "      <th>unique</th>\n",
       "      <td>4</td>\n",
       "      <td>4</td>\n",
       "      <td>4</td>\n",
       "      <td>3</td>\n",
       "      <td>3</td>\n",
       "      <td>3</td>\n",
       "      <td>4</td>\n",
       "    </tr>\n",
       "    <tr>\n",
       "      <th>top</th>\n",
       "      <td>vhigh</td>\n",
       "      <td>vhigh</td>\n",
       "      <td>2</td>\n",
       "      <td>2</td>\n",
       "      <td>small</td>\n",
       "      <td>low</td>\n",
       "      <td>unacc</td>\n",
       "    </tr>\n",
       "    <tr>\n",
       "      <th>freq</th>\n",
       "      <td>432</td>\n",
       "      <td>432</td>\n",
       "      <td>432</td>\n",
       "      <td>576</td>\n",
       "      <td>576</td>\n",
       "      <td>576</td>\n",
       "      <td>1210</td>\n",
       "    </tr>\n",
       "  </tbody>\n",
       "</table>\n",
       "</div>"
      ],
      "text/plain": [
       "       buying  maint doors persons lug_boot safety  class\n",
       "count    1728   1728  1728    1728     1728   1728   1728\n",
       "unique      4      4     4       3        3      3      4\n",
       "top     vhigh  vhigh     2       2    small    low  unacc\n",
       "freq      432    432   432     576      576    576   1210"
      ]
     },
     "execution_count": 72,
     "metadata": {},
     "output_type": "execute_result"
    }
   ],
   "source": [
    "df_1.describe(include=['O'])"
   ]
  },
  {
   "cell_type": "code",
   "execution_count": 73,
   "id": "91afa18d",
   "metadata": {},
   "outputs": [],
   "source": [
    "#retirando dados nulos\n",
    "\n",
    "df_1 = df_1.dropna()"
   ]
  },
  {
   "cell_type": "code",
   "execution_count": 74,
   "id": "d6cb78a4",
   "metadata": {},
   "outputs": [],
   "source": [
    "#convertendo dados categóricos em números usando LabelEncoder\n",
    "\n",
    "le  = preprocessing.LabelEncoder()\n",
    "df_1['Buying_1'] = le.fit_transform(df_1['buying'])\n",
    "df_1['Maint_1'] = le.fit_transform(df_1['maint'])\n",
    "df_1['doors_1'] = le.fit_transform(df_1['doors'])\n",
    "df_1['persons_1'] = le.fit_transform(df_1['persons'])\n",
    "df_1['lug_boot_1'] = le.fit_transform(df_1['lug_boot'])\n",
    "df_1['safety_1'] = le.fit_transform(df_1['safety'])"
   ]
  },
  {
   "cell_type": "code",
   "execution_count": 75,
   "id": "a750a2d2",
   "metadata": {},
   "outputs": [
    {
     "data": {
      "text/html": [
       "<div>\n",
       "<style scoped>\n",
       "    .dataframe tbody tr th:only-of-type {\n",
       "        vertical-align: middle;\n",
       "    }\n",
       "\n",
       "    .dataframe tbody tr th {\n",
       "        vertical-align: top;\n",
       "    }\n",
       "\n",
       "    .dataframe thead th {\n",
       "        text-align: right;\n",
       "    }\n",
       "</style>\n",
       "<table border=\"1\" class=\"dataframe\">\n",
       "  <thead>\n",
       "    <tr style=\"text-align: right;\">\n",
       "      <th></th>\n",
       "      <th>buying</th>\n",
       "      <th>maint</th>\n",
       "      <th>doors</th>\n",
       "      <th>persons</th>\n",
       "      <th>lug_boot</th>\n",
       "      <th>safety</th>\n",
       "      <th>class</th>\n",
       "      <th>Buying_1</th>\n",
       "      <th>Maint_1</th>\n",
       "      <th>doors_1</th>\n",
       "      <th>persons_1</th>\n",
       "      <th>lug_boot_1</th>\n",
       "      <th>safety_1</th>\n",
       "    </tr>\n",
       "  </thead>\n",
       "  <tbody>\n",
       "    <tr>\n",
       "      <th>0</th>\n",
       "      <td>vhigh</td>\n",
       "      <td>vhigh</td>\n",
       "      <td>2</td>\n",
       "      <td>2</td>\n",
       "      <td>small</td>\n",
       "      <td>low</td>\n",
       "      <td>unacc</td>\n",
       "      <td>3</td>\n",
       "      <td>3</td>\n",
       "      <td>0</td>\n",
       "      <td>0</td>\n",
       "      <td>2</td>\n",
       "      <td>1</td>\n",
       "    </tr>\n",
       "    <tr>\n",
       "      <th>1</th>\n",
       "      <td>vhigh</td>\n",
       "      <td>vhigh</td>\n",
       "      <td>2</td>\n",
       "      <td>2</td>\n",
       "      <td>small</td>\n",
       "      <td>med</td>\n",
       "      <td>unacc</td>\n",
       "      <td>3</td>\n",
       "      <td>3</td>\n",
       "      <td>0</td>\n",
       "      <td>0</td>\n",
       "      <td>2</td>\n",
       "      <td>2</td>\n",
       "    </tr>\n",
       "    <tr>\n",
       "      <th>2</th>\n",
       "      <td>vhigh</td>\n",
       "      <td>vhigh</td>\n",
       "      <td>2</td>\n",
       "      <td>2</td>\n",
       "      <td>small</td>\n",
       "      <td>high</td>\n",
       "      <td>unacc</td>\n",
       "      <td>3</td>\n",
       "      <td>3</td>\n",
       "      <td>0</td>\n",
       "      <td>0</td>\n",
       "      <td>2</td>\n",
       "      <td>0</td>\n",
       "    </tr>\n",
       "    <tr>\n",
       "      <th>3</th>\n",
       "      <td>vhigh</td>\n",
       "      <td>vhigh</td>\n",
       "      <td>2</td>\n",
       "      <td>2</td>\n",
       "      <td>med</td>\n",
       "      <td>low</td>\n",
       "      <td>unacc</td>\n",
       "      <td>3</td>\n",
       "      <td>3</td>\n",
       "      <td>0</td>\n",
       "      <td>0</td>\n",
       "      <td>1</td>\n",
       "      <td>1</td>\n",
       "    </tr>\n",
       "    <tr>\n",
       "      <th>4</th>\n",
       "      <td>vhigh</td>\n",
       "      <td>vhigh</td>\n",
       "      <td>2</td>\n",
       "      <td>2</td>\n",
       "      <td>med</td>\n",
       "      <td>med</td>\n",
       "      <td>unacc</td>\n",
       "      <td>3</td>\n",
       "      <td>3</td>\n",
       "      <td>0</td>\n",
       "      <td>0</td>\n",
       "      <td>1</td>\n",
       "      <td>2</td>\n",
       "    </tr>\n",
       "    <tr>\n",
       "      <th>5</th>\n",
       "      <td>vhigh</td>\n",
       "      <td>vhigh</td>\n",
       "      <td>2</td>\n",
       "      <td>2</td>\n",
       "      <td>med</td>\n",
       "      <td>high</td>\n",
       "      <td>unacc</td>\n",
       "      <td>3</td>\n",
       "      <td>3</td>\n",
       "      <td>0</td>\n",
       "      <td>0</td>\n",
       "      <td>1</td>\n",
       "      <td>0</td>\n",
       "    </tr>\n",
       "    <tr>\n",
       "      <th>6</th>\n",
       "      <td>vhigh</td>\n",
       "      <td>vhigh</td>\n",
       "      <td>2</td>\n",
       "      <td>2</td>\n",
       "      <td>big</td>\n",
       "      <td>low</td>\n",
       "      <td>unacc</td>\n",
       "      <td>3</td>\n",
       "      <td>3</td>\n",
       "      <td>0</td>\n",
       "      <td>0</td>\n",
       "      <td>0</td>\n",
       "      <td>1</td>\n",
       "    </tr>\n",
       "    <tr>\n",
       "      <th>7</th>\n",
       "      <td>vhigh</td>\n",
       "      <td>vhigh</td>\n",
       "      <td>2</td>\n",
       "      <td>2</td>\n",
       "      <td>big</td>\n",
       "      <td>med</td>\n",
       "      <td>unacc</td>\n",
       "      <td>3</td>\n",
       "      <td>3</td>\n",
       "      <td>0</td>\n",
       "      <td>0</td>\n",
       "      <td>0</td>\n",
       "      <td>2</td>\n",
       "    </tr>\n",
       "    <tr>\n",
       "      <th>8</th>\n",
       "      <td>vhigh</td>\n",
       "      <td>vhigh</td>\n",
       "      <td>2</td>\n",
       "      <td>2</td>\n",
       "      <td>big</td>\n",
       "      <td>high</td>\n",
       "      <td>unacc</td>\n",
       "      <td>3</td>\n",
       "      <td>3</td>\n",
       "      <td>0</td>\n",
       "      <td>0</td>\n",
       "      <td>0</td>\n",
       "      <td>0</td>\n",
       "    </tr>\n",
       "    <tr>\n",
       "      <th>9</th>\n",
       "      <td>vhigh</td>\n",
       "      <td>vhigh</td>\n",
       "      <td>2</td>\n",
       "      <td>4</td>\n",
       "      <td>small</td>\n",
       "      <td>low</td>\n",
       "      <td>unacc</td>\n",
       "      <td>3</td>\n",
       "      <td>3</td>\n",
       "      <td>0</td>\n",
       "      <td>1</td>\n",
       "      <td>2</td>\n",
       "      <td>1</td>\n",
       "    </tr>\n",
       "  </tbody>\n",
       "</table>\n",
       "</div>"
      ],
      "text/plain": [
       "  buying  maint doors persons lug_boot safety  class  Buying_1  Maint_1  \\\n",
       "0  vhigh  vhigh     2       2    small    low  unacc         3        3   \n",
       "1  vhigh  vhigh     2       2    small    med  unacc         3        3   \n",
       "2  vhigh  vhigh     2       2    small   high  unacc         3        3   \n",
       "3  vhigh  vhigh     2       2      med    low  unacc         3        3   \n",
       "4  vhigh  vhigh     2       2      med    med  unacc         3        3   \n",
       "5  vhigh  vhigh     2       2      med   high  unacc         3        3   \n",
       "6  vhigh  vhigh     2       2      big    low  unacc         3        3   \n",
       "7  vhigh  vhigh     2       2      big    med  unacc         3        3   \n",
       "8  vhigh  vhigh     2       2      big   high  unacc         3        3   \n",
       "9  vhigh  vhigh     2       4    small    low  unacc         3        3   \n",
       "\n",
       "   doors_1  persons_1  lug_boot_1  safety_1  \n",
       "0        0          0           2         1  \n",
       "1        0          0           2         2  \n",
       "2        0          0           2         0  \n",
       "3        0          0           1         1  \n",
       "4        0          0           1         2  \n",
       "5        0          0           1         0  \n",
       "6        0          0           0         1  \n",
       "7        0          0           0         2  \n",
       "8        0          0           0         0  \n",
       "9        0          1           2         1  "
      ]
     },
     "execution_count": 75,
     "metadata": {},
     "output_type": "execute_result"
    }
   ],
   "source": [
    "df_1.head(10)"
   ]
  },
  {
   "cell_type": "code",
   "execution_count": 76,
   "id": "668895e8",
   "metadata": {},
   "outputs": [
    {
     "data": {
      "text/html": [
       "<div>\n",
       "<style scoped>\n",
       "    .dataframe tbody tr th:only-of-type {\n",
       "        vertical-align: middle;\n",
       "    }\n",
       "\n",
       "    .dataframe tbody tr th {\n",
       "        vertical-align: top;\n",
       "    }\n",
       "\n",
       "    .dataframe thead th {\n",
       "        text-align: right;\n",
       "    }\n",
       "</style>\n",
       "<table border=\"1\" class=\"dataframe\">\n",
       "  <thead>\n",
       "    <tr style=\"text-align: right;\">\n",
       "      <th></th>\n",
       "      <th>Buying_1</th>\n",
       "      <th>Maint_1</th>\n",
       "      <th>doors_1</th>\n",
       "      <th>persons_1</th>\n",
       "      <th>lug_boot_1</th>\n",
       "      <th>safety_1</th>\n",
       "    </tr>\n",
       "  </thead>\n",
       "  <tbody>\n",
       "    <tr>\n",
       "      <th>0</th>\n",
       "      <td>3</td>\n",
       "      <td>3</td>\n",
       "      <td>0</td>\n",
       "      <td>0</td>\n",
       "      <td>2</td>\n",
       "      <td>1</td>\n",
       "    </tr>\n",
       "    <tr>\n",
       "      <th>1</th>\n",
       "      <td>3</td>\n",
       "      <td>3</td>\n",
       "      <td>0</td>\n",
       "      <td>0</td>\n",
       "      <td>2</td>\n",
       "      <td>2</td>\n",
       "    </tr>\n",
       "    <tr>\n",
       "      <th>2</th>\n",
       "      <td>3</td>\n",
       "      <td>3</td>\n",
       "      <td>0</td>\n",
       "      <td>0</td>\n",
       "      <td>2</td>\n",
       "      <td>0</td>\n",
       "    </tr>\n",
       "    <tr>\n",
       "      <th>3</th>\n",
       "      <td>3</td>\n",
       "      <td>3</td>\n",
       "      <td>0</td>\n",
       "      <td>0</td>\n",
       "      <td>1</td>\n",
       "      <td>1</td>\n",
       "    </tr>\n",
       "    <tr>\n",
       "      <th>4</th>\n",
       "      <td>3</td>\n",
       "      <td>3</td>\n",
       "      <td>0</td>\n",
       "      <td>0</td>\n",
       "      <td>1</td>\n",
       "      <td>2</td>\n",
       "    </tr>\n",
       "    <tr>\n",
       "      <th>...</th>\n",
       "      <td>...</td>\n",
       "      <td>...</td>\n",
       "      <td>...</td>\n",
       "      <td>...</td>\n",
       "      <td>...</td>\n",
       "      <td>...</td>\n",
       "    </tr>\n",
       "    <tr>\n",
       "      <th>95</th>\n",
       "      <td>3</td>\n",
       "      <td>3</td>\n",
       "      <td>3</td>\n",
       "      <td>1</td>\n",
       "      <td>1</td>\n",
       "      <td>0</td>\n",
       "    </tr>\n",
       "    <tr>\n",
       "      <th>96</th>\n",
       "      <td>3</td>\n",
       "      <td>3</td>\n",
       "      <td>3</td>\n",
       "      <td>1</td>\n",
       "      <td>0</td>\n",
       "      <td>1</td>\n",
       "    </tr>\n",
       "    <tr>\n",
       "      <th>97</th>\n",
       "      <td>3</td>\n",
       "      <td>3</td>\n",
       "      <td>3</td>\n",
       "      <td>1</td>\n",
       "      <td>0</td>\n",
       "      <td>2</td>\n",
       "    </tr>\n",
       "    <tr>\n",
       "      <th>98</th>\n",
       "      <td>3</td>\n",
       "      <td>3</td>\n",
       "      <td>3</td>\n",
       "      <td>1</td>\n",
       "      <td>0</td>\n",
       "      <td>0</td>\n",
       "    </tr>\n",
       "    <tr>\n",
       "      <th>99</th>\n",
       "      <td>3</td>\n",
       "      <td>3</td>\n",
       "      <td>3</td>\n",
       "      <td>2</td>\n",
       "      <td>2</td>\n",
       "      <td>1</td>\n",
       "    </tr>\n",
       "  </tbody>\n",
       "</table>\n",
       "<p>100 rows × 6 columns</p>\n",
       "</div>"
      ],
      "text/plain": [
       "    Buying_1  Maint_1  doors_1  persons_1  lug_boot_1  safety_1\n",
       "0          3        3        0          0           2         1\n",
       "1          3        3        0          0           2         2\n",
       "2          3        3        0          0           2         0\n",
       "3          3        3        0          0           1         1\n",
       "4          3        3        0          0           1         2\n",
       "..       ...      ...      ...        ...         ...       ...\n",
       "95         3        3        3          1           1         0\n",
       "96         3        3        3          1           0         1\n",
       "97         3        3        3          1           0         2\n",
       "98         3        3        3          1           0         0\n",
       "99         3        3        3          2           2         1\n",
       "\n",
       "[100 rows x 6 columns]"
      ]
     },
     "execution_count": 76,
     "metadata": {},
     "output_type": "execute_result"
    }
   ],
   "source": [
    "#Separando as variáveis explicativas X da variável resposta Y\n",
    "\n",
    "X = df_1.iloc[:, 7:]\n",
    "X.head(100)"
   ]
  },
  {
   "cell_type": "code",
   "execution_count": 77,
   "id": "60c0310f",
   "metadata": {},
   "outputs": [
    {
     "data": {
      "text/plain": [
       "RangeIndex(start=0, stop=1728, step=1)"
      ]
     },
     "execution_count": 77,
     "metadata": {},
     "output_type": "execute_result"
    }
   ],
   "source": [
    "Y = df_1['class']\n",
    "Y.index"
   ]
  },
  {
   "cell_type": "code",
   "execution_count": 78,
   "id": "1db5d313",
   "metadata": {},
   "outputs": [
    {
     "data": {
      "text/plain": [
       "((1728, 6), (1728,))"
      ]
     },
     "execution_count": 78,
     "metadata": {},
     "output_type": "execute_result"
    }
   ],
   "source": [
    "#verificando tamanho das bases\n",
    "X.shape, Y.shape"
   ]
  },
  {
   "cell_type": "markdown",
   "id": "3b95cd58",
   "metadata": {},
   "source": [
    "# Separando Base de Treino e Teste - Método Treino-Teste"
   ]
  },
  {
   "cell_type": "code",
   "execution_count": 87,
   "id": "f6cbed6f",
   "metadata": {},
   "outputs": [
    {
     "data": {
      "text/plain": [
       "((1555, 6), (173, 6), (1555,), (173,))"
      ]
     },
     "execution_count": 87,
     "metadata": {},
     "output_type": "execute_result"
    }
   ],
   "source": [
    "#Separando a base de treino (90%) e de teste(10%) Usando Metodo treino-teste\n",
    "\n",
    "from sklearn.model_selection import train_test_split\n",
    "\n",
    "X_train, X_test, Y_train, Y_test = train_test_split(X, Y, test_size=0.1)\n",
    "\n",
    "X_train.shape, X_test.shape, Y_train.shape, Y_test.shape"
   ]
  },
  {
   "cell_type": "markdown",
   "id": "21479f15",
   "metadata": {},
   "source": [
    "# Aplicando modelo KNN"
   ]
  },
  {
   "cell_type": "code",
   "execution_count": 88,
   "id": "44eddfb2",
   "metadata": {},
   "outputs": [
    {
     "data": {
      "text/plain": [
       "KNeighborsClassifier()"
      ]
     },
     "execution_count": 88,
     "metadata": {},
     "output_type": "execute_result"
    }
   ],
   "source": [
    "#Setando o modelo\n",
    "from sklearn.neighbors import KNeighborsClassifier\n",
    "\n",
    "#Setando K = 5 e calculo da distância euclidiana = p = 2\n",
    "knn = KNeighborsClassifier(n_neighbors = 5, p=2)\n",
    "\n",
    "knn.fit(X_train, Y_train)"
   ]
  },
  {
   "cell_type": "code",
   "execution_count": 89,
   "id": "0f3dec7d",
   "metadata": {},
   "outputs": [],
   "source": [
    "#Rodando o modelo\n",
    "\n",
    "y_pred = knn.predict(X_test)"
   ]
  },
  {
   "cell_type": "markdown",
   "id": "62fe590b",
   "metadata": {},
   "source": [
    "### Testando a Acurácia do Modelo"
   ]
  },
  {
   "cell_type": "code",
   "execution_count": 90,
   "id": "85e50eb3",
   "metadata": {},
   "outputs": [
    {
     "name": "stdout",
     "output_type": "stream",
     "text": [
      "0.9248554913294798\n",
      "0.9222427600975209\n"
     ]
    }
   ],
   "source": [
    "#Testando a acurácia do modelo pelo F1 Score\n",
    "\n",
    "from sklearn import metrics\n",
    "print(metrics.accuracy_score(Y_test, y_pred))\n",
    "print(metrics.f1_score(Y_test, y_pred, average='weighted'))\n",
    "\n",
    "#Acurácia K = 1: 83,3 e 83,1\n",
    "#Acurácia K = 5: 91,0 e 90,5\n",
    "#Acurácia K = 7: 90,4 e 89,7\n",
    "#Acurácia K = 10: 87,5 e 86,5 "
   ]
  },
  {
   "cell_type": "markdown",
   "id": "298e1ba0",
   "metadata": {},
   "source": [
    "## Verificando qual o K com menor erro"
   ]
  },
  {
   "cell_type": "code",
   "execution_count": 91,
   "id": "051f31d2",
   "metadata": {},
   "outputs": [],
   "source": [
    "#Lista de K ímpares de 1 a 50\n",
    "neighbors = list(range(1,50,2))\n",
    "\n",
    "#Lista vazia para inserir valores dos scores\n",
    "knn_scores = []\n",
    "\n",
    "for k in neighbors:\n",
    "    knn = KNeighborsClassifier(n_neighbors = k, p=2)\n",
    "    knn.fit(X_train, Y_train)\n",
    "    y_pred = knn.predict(X_test)\n",
    "    \n",
    "    score = metrics.accuracy_score(Y_test, y_pred)\n",
    "    knn_scores.append(score.mean())\n",
    "    \n",
    "    "
   ]
  },
  {
   "cell_type": "code",
   "execution_count": 92,
   "id": "a601c484",
   "metadata": {},
   "outputs": [
    {
     "name": "stdout",
     "output_type": "stream",
     "text": [
      "The optimal number of neighbors is 7\n"
     ]
    },
    {
     "data": {
      "image/png": "[encoded data removed]",
      "text/plain": [
       "<Figure size 432x288 with 1 Axes>"
      ]
     },
     "metadata": {
      "needs_background": "light"
     },
     "output_type": "display_data"
    }
   ],
   "source": [
    "import matplotlib.pyplot as plt\n",
    "# changing to misclassification error\n",
    "mse = [1 - x for x in knn_scores]\n",
    "\n",
    "# Função que procura qual índice com o menor erro \n",
    "def find_min_idx(z):\n",
    "  vector = []\n",
    "  for i, j in enumerate(z):\n",
    "    if j == min(mse):\n",
    "        vector.append(i)\n",
    "  return max(vector)\n",
    "\n",
    "# determining best k\n",
    "optimal_k = neighbors[find_min_idx(mse)]\n",
    "optimal_mse = min(mse)\n",
    "print(\"The optimal number of neighbors is {}\".format(optimal_k))\n",
    "\n",
    "# plot misclassification error vs k\n",
    "plt.plot(neighbors, mse, marker = 'o')\n",
    "plt.xlabel(\"Number of Neighbors K\")\n",
    "plt.ylabel(\"Misclassification Error\")\n",
    "plt.plot(optimal_k,optimal_mse,'ro') \n",
    "plt.show()"
   ]
  },
  {
   "cell_type": "markdown",
   "id": "d225139a",
   "metadata": {},
   "source": [
    "# Separando a Base de Treino - Método K Fold"
   ]
  },
  {
   "cell_type": "code",
   "execution_count": 20,
   "id": "f1c63670",
   "metadata": {},
   "outputs": [],
   "source": [
    "from sklearn.model_selection import KFold\n",
    "\n",
    "kf = KFold(n_splits=10)\n",
    "\n",
    "for train, test in kf.split(df_1):\n",
    "    \"%s %s\" % (train, test)"
   ]
  },
  {
   "cell_type": "code",
   "execution_count": 21,
   "id": "4c07580b",
   "metadata": {},
   "outputs": [
    {
     "data": {
      "text/plain": [
       "((1556,), (172,))"
      ]
     },
     "execution_count": 21,
     "metadata": {},
     "output_type": "execute_result"
    }
   ],
   "source": [
    "train.shape , test.shape"
   ]
  },
  {
   "cell_type": "code",
   "execution_count": 22,
   "id": "f6440e58",
   "metadata": {},
   "outputs": [],
   "source": [
    "X_train_kf, X_test_kf, y_train_kf, y_test_kf = X.iloc[train], X.iloc[test], Y.iloc[train], Y.iloc[test]"
   ]
  },
  {
   "cell_type": "code",
   "execution_count": 23,
   "id": "411ce1f5",
   "metadata": {},
   "outputs": [
    {
     "data": {
      "text/plain": [
       "KNeighborsClassifier(n_neighbors=33)"
      ]
     },
     "execution_count": 23,
     "metadata": {},
     "output_type": "execute_result"
    }
   ],
   "source": [
    "#Setando o modelo\n",
    "knn = KNeighborsClassifier(n_neighbors = 33, p=2)\n",
    "\n",
    "knn.fit(X_train_kf, y_train_kf)"
   ]
  },
  {
   "cell_type": "code",
   "execution_count": 24,
   "id": "563751cc",
   "metadata": {},
   "outputs": [],
   "source": [
    "#Rodando o modelo\n",
    "\n",
    "y_pred_kf = knn.predict(X_test_kf)"
   ]
  },
  {
   "cell_type": "markdown",
   "id": "b3f4b1a8",
   "metadata": {},
   "source": [
    "### Testando a Acurácia do modelo"
   ]
  },
  {
   "cell_type": "code",
   "execution_count": 25,
   "id": "13e52199",
   "metadata": {},
   "outputs": [
    {
     "name": "stdout",
     "output_type": "stream",
     "text": [
      "0.5755813953488372\n",
      "0.5261734389641366\n"
     ]
    }
   ],
   "source": [
    "#Testando a acurácia do modelo pelo F1 Score\n",
    "\n",
    "print(metrics.accuracy_score(y_test_kf, y_pred_kf))\n",
    "print(metrics.f1_score(y_test_kf, y_pred_kf, average='weighted'))\n",
    "\n",
    "#Acurácia K = 5 e splits = 2: 64,1 e 54,6\n",
    "#Acurácia K = 5 e splits = 5: 64,9 e 57,8\n",
    "#Acurácia K = 5 e splits = 10: 66,2 e 63,9\n"
   ]
  },
  {
   "cell_type": "markdown",
   "id": "fa73e9be",
   "metadata": {},
   "source": [
    "## K Fold Cross Validation Repetição "
   ]
  },
  {
   "cell_type": "code",
   "execution_count": 26,
   "id": "10111fa7",
   "metadata": {},
   "outputs": [],
   "source": [
    "#Kfold repetição\n",
    "#https://scikit-learn.org/stable/modules/generated/sklearn.model_selection.RepeatedKFold.html#sklearn.model_selection.RepeatedKFold\n",
    "from sklearn.model_selection import RepeatedKFold\n",
    "\n",
    "random_state = 12883823\n",
    "rkf = RepeatedKFold(n_splits=2, n_repeats=5, random_state=random_state)\n",
    "for train_index, test_index in rkf.split(X):\n",
    "    #print(\"TRAIN:\", train_index, \"TEST:\", test_index)\n",
    "    x_train_rkf, x_test_rkf = X.iloc[train_index], X.iloc[test_index]\n",
    "    y_train_rkf, y_test_rkf = Y.iloc[train_index], Y.iloc[test_index]"
   ]
  },
  {
   "cell_type": "code",
   "execution_count": 27,
   "id": "7b5a9b2e",
   "metadata": {},
   "outputs": [
    {
     "data": {
      "text/plain": [
       "((864,), (864,))"
      ]
     },
     "execution_count": 27,
     "metadata": {},
     "output_type": "execute_result"
    }
   ],
   "source": [
    "train_index.shape, test_index.shape"
   ]
  },
  {
   "cell_type": "code",
   "execution_count": 57,
   "id": "f7119921",
   "metadata": {},
   "outputs": [
    {
     "data": {
      "text/plain": [
       "KNeighborsClassifier()"
      ]
     },
     "execution_count": 57,
     "metadata": {},
     "output_type": "execute_result"
    }
   ],
   "source": [
    "#Setando o modelo\n",
    "knn = KNeighborsClassifier(n_neighbors = 5, p=2)\n",
    "\n",
    "knn.fit(x_train_rkf, y_train_rkf)"
   ]
  },
  {
   "cell_type": "code",
   "execution_count": 58,
   "id": "5e4ed8f6",
   "metadata": {},
   "outputs": [],
   "source": [
    "#Rodando o modelo\n",
    "\n",
    "y_pred_rkf = knn.predict(x_test_rkf)"
   ]
  },
  {
   "cell_type": "markdown",
   "id": "a51789a4",
   "metadata": {},
   "source": [
    "### Testando a acurácia do modelo"
   ]
  },
  {
   "cell_type": "code",
   "execution_count": 59,
   "id": "35163ef2",
   "metadata": {},
   "outputs": [
    {
     "name": "stdout",
     "output_type": "stream",
     "text": [
      "0.8645833333333334\n",
      "0.8520417638873591\n"
     ]
    }
   ],
   "source": [
    "#Testando a acurácia do modelo pelo F1 Score\n",
    "\n",
    "print(metrics.accuracy_score(y_test_rkf, y_pred_rkf))\n",
    "print(metrics.f1_score(y_test_rkf, y_pred_rkf, average='weighted'))\n",
    "\n",
    "#Acurácia K = 5, splits = 2 e repeticões = 1 : 85,4 e 83,3\n",
    "#Acurácia K = 5, splits = 2 e repeticões = 5 : 88,0 e 87,2\n",
    "#Acurácia K = 5, splits = 2 e repeticões = 10 : 85,8 e 84,9"
   ]
  },
  {
   "cell_type": "markdown",
   "id": "614bde1e",
   "metadata": {},
   "source": [
    "# Verificando qual o K ótimo\n",
    "https://medium.com/analytics-vidhya/%E4%B8%80%E6%96%87%E6%90%9E%E6%87%82k%E8%BF%91%E9%82%BB%E7%AE%97%E6%B3%95-knn-a1c3571562c1"
   ]
  },
  {
   "cell_type": "code",
   "execution_count": 68,
   "id": "ffd02141",
   "metadata": {},
   "outputs": [],
   "source": [
    "from sklearn.neighbors import KNeighborsClassifier\n",
    "#Kfold repetição\n",
    "from sklearn.model_selection import RepeatedKFold\n",
    "from sklearn.model_selection import cross_val_score\n",
    "\n",
    "# criando lista de números ímpares para K\n",
    "neighbors = list(range(1, 50, 2))\n",
    "\n",
    "# empty list that will hold cv scores\n",
    "cv_scores = []\n",
    "\n",
    "# perform 10-fold cross validation\n",
    "for k in neighbors:\n",
    "    knn = KNeighborsClassifier(n_neighbors=k)\n",
    "    \n",
    "    rkf = RepeatedKFold(n_splits=2, n_repeats=10, random_state=12883823)\n",
    "    for train_index, test_index in rkf.split(X):\n",
    "        #print(\"TRAIN:\", train_index, \"TEST:\", test_index)\n",
    "        x_train_rkf, x_test_rkf = X.iloc[train_index], X.iloc[test_index]\n",
    "        y_train_rkf, y_test_rkf = Y.iloc[train_index], Y.iloc[test_index]\n",
    "    \n",
    "    # Roda o algoritmo\n",
    "    knn.fit(x_train_rkf, y_train_rkf)\n",
    "    y_pred_rkf = knn.predict(x_test_rkf)\n",
    "    \n",
    "    # Armazena a acurácia para cada K testado\n",
    "    scores = metrics.accuracy_score(y_test_rkf, y_pred_rkf)\n",
    "    cv_scores.append(scores.mean())"
   ]
  },
  {
   "cell_type": "code",
   "execution_count": 69,
   "id": "981c841c",
   "metadata": {},
   "outputs": [
    {
     "name": "stdout",
     "output_type": "stream",
     "text": [
      "The optimal number of neighbors is 5\n"
     ]
    },
    {
     "data": {
      "image/png": "[encoded data removed]",
      "text/plain": [
       "<Figure size 432x288 with 1 Axes>"
      ]
     },
     "metadata": {
      "needs_background": "light"
     },
     "output_type": "display_data"
    }
   ],
   "source": [
    "import matplotlib.pyplot as plt\n",
    "# changing to misclassification error\n",
    "mse = [1 - x for x in cv_scores]\n",
    "\n",
    "# Função que procura qual índice com o menor erro \n",
    "def find_min_idx(z):\n",
    "  vector = []\n",
    "  for i, j in enumerate(z):\n",
    "    if j == min(mse):\n",
    "        vector.append(i)\n",
    "  return max(vector)\n",
    "\n",
    "# determining best k\n",
    "optimal_k = neighbors[find_min_idx(mse)]\n",
    "optimal_mse = min(mse)\n",
    "print(\"The optimal number of neighbors is {}\".format(optimal_k))\n",
    "\n",
    "# plot misclassification error vs k\n",
    "plt.plot(neighbors, mse, marker = 'o')\n",
    "plt.xlabel(\"Number of Neighbors K\")\n",
    "plt.ylabel(\"Misclassification Error\")\n",
    "plt.plot(optimal_k,optimal_mse,'ro') \n",
    "plt.show()"
   ]
  },
  {
   "cell_type": "code",
   "execution_count": null,
   "id": "a10a95f1",
   "metadata": {},
   "outputs": [],
   "source": []
  }
 ],
 "metadata": {
  "kernelspec": {
   "display_name": "Python 3 (ipykernel)",
   "language": "python",
   "name": "python3"
  },
  "language_info": {
   "codemirror_mode": {
    "name": "ipython",
    "version": 3
   },
   "file_extension": ".py",
   "mimetype": "text/x-python",
   "name": "python",
   "nbconvert_exporter": "python",
   "pygments_lexer": "ipython3",
   "version": "3.9.12"
  }
 },
 "nbformat": 4,
 "nbformat_minor": 5
}
